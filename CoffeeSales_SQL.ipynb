{
 "cells": [
  {
   "cell_type": "markdown",
   "id": "ad3e424b",
   "metadata": {},
   "source": [
    "1. How much revenue does the business generated and how many purchases were made over each month recorded?"
   ]
  },
  {
   "cell_type": "code",
   "execution_count": null,
   "id": "4352d672",
   "metadata": {},
   "outputs": [],
   "source": [
    "SELECT\n",
    "  FORMAT_DATE('%Y-%m', date) AS by_month,\n",
    "  COUNT(datetime) AS purchases,\n",
    "  ROUND(SUM(money), 2) AS revenue\n",
    "FROM `sql-study-409813.Test.coffee`\n",
    "GROUP BY FORMAT_DATE('%Y-%m', date)"
   ]
  },
  {
   "cell_type": "markdown",
   "id": "42df068a",
   "metadata": {},
   "source": [
    "![ALT TEXT](/Users/ivand/Desktop/Python/.venv/CoffeeSales_SQL/1.png)"
   ]
  },
  {
   "cell_type": "markdown",
   "id": "a85bbeb1",
   "metadata": {},
   "source": [
    "2. What type of coffee was the most popular each month?"
   ]
  },
  {
   "cell_type": "code",
   "execution_count": null,
   "id": "0854792f",
   "metadata": {},
   "outputs": [],
   "source": [
    "WITH coffee_types AS (\n",
    "  SELECT\n",
    "    FORMAT_DATE('%Y-%m', date) AS by_month,\n",
    "    coffee_name,\n",
    "    COUNT(coffee_name) AS purchases\n",
    "  FROM `sql-study-409813.Test.coffee`\n",
    "  GROUP BY FORMAT_DATE('%Y-%m', date), coffee_name\n",
    ")\n",
    "SELECT\n",
    "  by_month,\n",
    "  coffee_name\n",
    "FROM (\n",
    "  SELECT\n",
    "    by_month,\n",
    "    coffee_name,\n",
    "    purchases,\n",
    "    ROW_NUMBER() OVER(PARTITION BY by_month ORDER BY purchases DESC) AS ranks\n",
    "  FROM coffee_types\n",
    ") AS coffee_ranks\n",
    "WHERE ranks = 1\n",
    "GROUP BY \n",
    "  by_month,\n",
    "  coffee_name\n",
    "ORDER BY by_month"
   ]
  },
  {
   "cell_type": "markdown",
   "id": "2ffe2c37",
   "metadata": {},
   "source": [
    "![ALT TEXT](/Users/ivand/Desktop/Python/.venv/CoffeeSales_SQL/2.png)"
   ]
  },
  {
   "cell_type": "markdown",
   "id": "5490fea3",
   "metadata": {},
   "source": [
    "3. How much does the business make per day on average?"
   ]
  },
  {
   "cell_type": "code",
   "execution_count": null,
   "id": "da329faa",
   "metadata": {},
   "outputs": [],
   "source": [
    "WITH cte AS (\n",
    "  SELECT\n",
    "    ROUND(SUM(money), 2) AS revenue,\n",
    "    DATE_DIFF(MAX(date), MIN(date), DAY) AS days\n",
    "  FROM `sql-study-409813.Test.coffee`\n",
    ")\n",
    "SELECT\n",
    "  ROUND(revenue / days, 2) AS revenue_per_day\n",
    "FROM cte"
   ]
  },
  {
   "cell_type": "markdown",
   "id": "a071b66d",
   "metadata": {},
   "source": [
    "![ALT TEXT](/Users/ivand/Desktop/Python/.venv/CoffeeSales_SQL/3.png)"
   ]
  },
  {
   "cell_type": "markdown",
   "id": "a4baf631",
   "metadata": {},
   "source": [
    "4. What percent do cash transactions constitute?"
   ]
  },
  {
   "cell_type": "code",
   "execution_count": null,
   "id": "83fa43f0",
   "metadata": {},
   "outputs": [],
   "source": [
    "WITH cte_1 AS (\n",
    "  SELECT\n",
    "    COUNT(cash_type) AS total_transactions\n",
    "  FROM `sql-study-409813.Test.coffee`\n",
    "),\n",
    "cte_2 AS (\n",
    "  SELECT\n",
    "    COUNT(cash_type) AS cash_transactions\n",
    "  FROM `sql-study-409813.Test.coffee`\n",
    "  WHERE cash_type = 'cash'\n",
    ")\n",
    "SELECT\n",
    "  ROUND(100 * cash_transactions / total_transactions, 2) AS cash_transactions\n",
    "FROM cte_1, cte_2\n"
   ]
  },
  {
   "cell_type": "markdown",
   "id": "39265293",
   "metadata": {},
   "source": [
    "![ALT TEXT](/Users/ivand/Desktop/Python/.venv/CoffeeSales_SQL/4.png)"
   ]
  },
  {
   "cell_type": "markdown",
   "id": "ab87888d",
   "metadata": {},
   "source": [
    "5. What is the popularity of each coffee type (by purchases) over the whole period?"
   ]
  },
  {
   "cell_type": "code",
   "execution_count": null,
   "id": "3b6efd16",
   "metadata": {},
   "outputs": [],
   "source": [
    "SELECT\n",
    "  coffee_name,\n",
    "  COUNT(coffee_name) AS purchases\n",
    "FROM `sql-study-409813.Test.coffee`\n",
    "GROUP BY coffee_name\n",
    "ORDER BY purchases DESC"
   ]
  },
  {
   "cell_type": "markdown",
   "id": "75faf7bf",
   "metadata": {},
   "source": [
    "![ALT TEXT](/Users/ivand/Desktop/Python/.venv/CoffeeSales_SQL/5.png)"
   ]
  },
  {
   "cell_type": "markdown",
   "id": "f213547c",
   "metadata": {},
   "source": [
    "6. What is the most favourite type of coffee of the best customer?"
   ]
  },
  {
   "cell_type": "code",
   "execution_count": null,
   "id": "150b6ef1",
   "metadata": {},
   "outputs": [],
   "source": [
    "WITH cte_1 AS (\n",
    "  SELECT\n",
    "    card,\n",
    "    coffee_name,\n",
    "    COUNT(card) AS purchases\n",
    "  FROM `sql-study-409813.Test.coffee`\n",
    "  WHERE cash_type = 'card'\n",
    "  GROUP BY card, coffee_name\n",
    "),\n",
    "cte_2 AS (\n",
    "  SELECT\n",
    "    card,\n",
    "    coffee_name,\n",
    "    purchases,\n",
    "    ROW_NUMBER() OVER(PARTITION BY card ORDER BY purchases DESC) AS ranks\n",
    "  FROM cte_1\n",
    ")\n",
    "SELECT\n",
    "  card,\n",
    "  coffee_name\n",
    "FROM cte_2\n",
    "WHERE \n",
    "  ranks = 1\n",
    "  AND card IN (\n",
    "    SELECT\n",
    "      card,\n",
    "    FROM `sql-study-409813.Test.coffee`\n",
    "    WHERE cash_type = 'card'\n",
    "    GROUP BY card\n",
    "    ORDER BY COUNT(card) DESC\n",
    "    LIMIT 1\n",
    "  )"
   ]
  },
  {
   "cell_type": "markdown",
   "id": "4442b1f5",
   "metadata": {},
   "source": [
    "![ALT TEXT](/Users/ivand/Desktop/Python/.venv/CoffeeSales_SQL/6.png)"
   ]
  }
 ],
 "metadata": {
  "kernelspec": {
   "display_name": ".venv (3.13.2)",
   "language": "python",
   "name": "python3"
  },
  "language_info": {
   "codemirror_mode": {
    "name": "ipython",
    "version": 3
   },
   "file_extension": ".py",
   "mimetype": "text/x-python",
   "name": "python",
   "nbconvert_exporter": "python",
   "pygments_lexer": "ipython3",
   "version": "3.13.2"
  }
 },
 "nbformat": 4,
 "nbformat_minor": 5
}
